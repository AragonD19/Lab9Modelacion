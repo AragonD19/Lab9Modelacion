{
 "cells": [
  {
   "cell_type": "code",
   "execution_count": 1,
   "metadata": {},
   "outputs": [
    {
     "ename": "ModuleNotFoundError",
     "evalue": "No module named 'numpy'",
     "output_type": "error",
     "traceback": [
      "\u001b[1;31m---------------------------------------------------------------------------\u001b[0m",
      "\u001b[1;31mModuleNotFoundError\u001b[0m                       Traceback (most recent call last)",
      "Cell \u001b[1;32mIn[1], line 1\u001b[0m\n\u001b[1;32m----> 1\u001b[0m \u001b[38;5;28;01mimport\u001b[39;00m \u001b[38;5;21;01mnumpy\u001b[39;00m \u001b[38;5;28;01mas\u001b[39;00m \u001b[38;5;21;01mnp\u001b[39;00m\n\u001b[0;32m      2\u001b[0m \u001b[38;5;28;01mfrom\u001b[39;00m \u001b[38;5;21;01mscipy\u001b[39;00m\u001b[38;5;21;01m.\u001b[39;00m\u001b[38;5;21;01mstats\u001b[39;00m \u001b[38;5;28;01mimport\u001b[39;00m chisquare\n\u001b[0;32m      4\u001b[0m \u001b[38;5;66;03m# Generar dos muestras\u001b[39;00m\n",
      "\u001b[1;31mModuleNotFoundError\u001b[0m: No module named 'numpy'"
     ]
    }
   ],
   "source": [
    "import numpy as np\n",
    "from scipy.stats import chisquare\n",
    "\n",
    "# Generar dos muestras\n",
    "np.random.seed(0)\n",
    "muestra1 = np.random.uniform(0, 1, 1000)  # Muestra teórica\n",
    "muestra2 = np.random.uniform(0, 1, 1000)  # Muestra de prueba\n",
    "\n",
    "# Crear intervalos y calcular frecuencias observadas\n",
    "intervalos = np.linspace(0, 1, 10)  # 10 intervalos\n",
    "observados, _ = np.histogram(muestra2, bins=intervalos)\n",
    "esperados = np.ones_like(observados) * len(muestra2) / len(observados)\n",
    "\n",
    "# Aplicar la prueba de Chi-Cuadrado\n",
    "chi2_stat, p_value = chisquare(f_obs=observados, f_exp=esperados)\n",
    "\n",
    "print(f\"Estadístico Chi-Cuadrado: {chi2_stat}\")\n",
    "print(f\"Valor p: {p_value}\")\n"
   ]
  },
  {
   "cell_type": "code",
   "execution_count": 2,
   "metadata": {},
   "outputs": [
    {
     "name": "stdout",
     "output_type": "stream",
     "text": [
      "Estadístico K-S: 0.047\n",
      "Valor p: 0.21939649929677082\n"
     ]
    }
   ],
   "source": [
    "from scipy.stats import ks_2samp\n",
    "\n",
    "# Generar dos muestras\n",
    "muestra1 = np.random.uniform(0, 1, 1000)\n",
    "muestra2 = np.random.uniform(0, 1, 1000)\n",
    "\n",
    "# Aplicar la prueba de Kolmogorov-Smirnov\n",
    "ks_stat, p_value = ks_2samp(muestra1, muestra2)\n",
    "\n",
    "print(f\"Estadístico K-S: {ks_stat}\")\n",
    "print(f\"Valor p: {p_value}\")\n"
   ]
  },
  {
   "cell_type": "code",
   "execution_count": 3,
   "metadata": {},
   "outputs": [
    {
     "name": "stdout",
     "output_type": "stream",
     "text": [
      "Prueba de Chi-Cuadrado\n",
      "Estadístico Chi-Cuadrado: inf\n",
      "Valor p: 0.0\n",
      "\n",
      "Prueba de Kolmogorov-Smirnov\n",
      "Estadístico K-S: 0.0116\n",
      "Valor p: 0.5116055794163079\n",
      "\n",
      "Se rechaza la hipótesis nula en la prueba de Chi-Cuadrado: las muestras son significativamente diferentes.\n",
      "No se rechaza la hipótesis nula en la prueba de Kolmogorov-Smirnov: las muestras no son significativamente diferentes.\n"
     ]
    },
    {
     "name": "stderr",
     "output_type": "stream",
     "text": [
      "c:\\Users\\Alvar\\OneDrive\\Documentos\\SemestreVIII\\Modelacion_Simulacion\\Lab9Modelacion\\myenv\\lib\\site-packages\\scipy\\stats\\_stats_py.py:7985: RuntimeWarning: divide by zero encountered in divide\n",
      "  terms = (f_obs_float - f_exp)**2 / f_exp\n"
     ]
    }
   ],
   "source": [
    "import numpy as np\n",
    "from scipy.stats import geom, chisquare, ks_2samp\n",
    "\n",
    "# Parámetros\n",
    "p = 0.3   # Probabilidad de éxito\n",
    "N = 10000  # Tamaño de la muestra\n",
    "\n",
    "# Muestra teórica\n",
    "muestra_teorica = geom.rvs(p, size=N)\n",
    "\n",
    "# Muestra empírica (usando la transformada inversa)\n",
    "uniformes = np.random.uniform(0, 1, N)\n",
    "muestra_empirica = np.floor(np.log(1 - uniformes) / np.log(1 - p)) + 1\n",
    "muestra_empirica = muestra_empirica.astype(int)\n",
    "\n",
    "# Agrupar datos en menos intervalos para la prueba de Chi-Cuadrado\n",
    "num_bins = 10  # Usar menos intervalos para evitar frecuencias bajas\n",
    "max_val = max(max(muestra_teorica), max(muestra_empirica))\n",
    "bins = np.linspace(1, max_val, num_bins)\n",
    "\n",
    "# Frecuencias observadas y esperadas\n",
    "observados, _ = np.histogram(muestra_empirica, bins=bins)\n",
    "esperados, _ = np.histogram(muestra_teorica, bins=bins)\n",
    "\n",
    "# Normalizar las frecuencias esperadas\n",
    "esperados = esperados * (observados.sum() / esperados.sum())\n",
    "\n",
    "# Aplicar la prueba de Chi-Cuadrado\n",
    "chi2_stat, p_value_chi2 = chisquare(f_obs=observados, f_exp=esperados)\n",
    "\n",
    "print(\"Prueba de Chi-Cuadrado\")\n",
    "print(f\"Estadístico Chi-Cuadrado: {chi2_stat}\")\n",
    "print(f\"Valor p: {p_value_chi2}\")\n",
    "\n",
    "# Prueba de Kolmogorov-Smirnov\n",
    "ks_stat, p_value_ks = ks_2samp(muestra_teorica, muestra_empirica)\n",
    "\n",
    "print(\"\\nPrueba de Kolmogorov-Smirnov\")\n",
    "print(f\"Estadístico K-S: {ks_stat}\")\n",
    "print(f\"Valor p: {p_value_ks}\")\n",
    "\n",
    "\n",
    "### Paso 4: Conclusiones ###\n",
    "\n",
    "if p_value_chi2 > 0.05:\n",
    "    print(\"\\nNo se rechaza la hipótesis nula en la prueba de Chi-Cuadrado: las muestras no son significativamente diferentes.\")\n",
    "else:\n",
    "    print(\"\\nSe rechaza la hipótesis nula en la prueba de Chi-Cuadrado: las muestras son significativamente diferentes.\")\n",
    "\n",
    "if p_value_ks > 0.05:\n",
    "    print(\"No se rechaza la hipótesis nula en la prueba de Kolmogorov-Smirnov: las muestras no son significativamente diferentes.\")\n",
    "else:\n",
    "    print(\"Se rechaza la hipótesis nula en la prueba de Kolmogorov-Smirnov: las muestras son significativamente diferentes.\")\n"
   ]
  },
  {
   "cell_type": "markdown",
   "metadata": {},
   "source": [
    "\n",
    "## (Comparar muestras de una Normal)Para una distribución geométrica N(µ, σ2)\n"
   ]
  },
  {
   "cell_type": "code",
   "execution_count": null,
   "metadata": {},
   "outputs": [],
   "source": [
    "import numpy as np\n",
    "from scipy.stats import norm\n",
    "\n",
    "N = 1000\n",
    "mu = 0 \n",
    "sigma = \n",
    "\n",
    "muestra_teorica = norm.rvs(loc=mu, scale=sigma, size=N)"
   ]
  },
  {
   "cell_type": "code",
   "execution_count": 5,
   "metadata": {},
   "outputs": [],
   "source": [
    "U = np.random.uniform(0, 1, N)\n",
    "muestra_empirica = norm.ppf(U, loc=mu, scale=sigma)"
   ]
  },
  {
   "cell_type": "code",
   "execution_count": 8,
   "metadata": {},
   "outputs": [
    {
     "name": "stdout",
     "output_type": "stream",
     "text": [
      "0.0010889920185359735\n"
     ]
    }
   ],
   "source": [
    "from scipy.stats import chisquare\n",
    "\n",
    "# Definir los intervalos\n",
    "bins = np.linspace(min(min(muestra_teorica), min(muestra_empirica)),\n",
    "                   max(max(muestra_teorica), max(muestra_empirica)), 10)\n",
    "\n",
    "# Calcular las frecuencias observadas\n",
    "freq_teorica, _ = np.histogram(muestra_teorica, bins=bins)\n",
    "freq_empirica, _ = np.histogram(muestra_empirica, bins=bins)\n",
    "\n",
    "# Realizar la prueba de Chi-cuadrado\n",
    "chi_stat, chi_p = chisquare(f_obs=freq_empirica, f_exp=freq_teorica)\n",
    "\n",
    "print(chi_p)\n"
   ]
  },
  {
   "cell_type": "code",
   "execution_count": 7,
   "metadata": {},
   "outputs": [],
   "source": [
    "from scipy.stats import ks_2samp\n",
    "\n",
    "ks_stat, ks_p = ks_2samp(muestra_teorica, muestra_empirica)"
   ]
  },
  {
   "cell_type": "code",
   "execution_count": 9,
   "metadata": {},
   "outputs": [
    {
     "name": "stdout",
     "output_type": "stream",
     "text": [
      "Resultado de la prueba de Chi-cuadrado:\n",
      "Estadístico chi2 = 25.9081, p-valor = 0.0011\n",
      "Se rechaza la hipótesis nula de la prueba de Chi-cuadrado.\n",
      "Las muestras podrían no provenir de la misma distribución.\n",
      "\n",
      "Resultado de la prueba de Kolmogorov-Smirnov:\n",
      "Estadístico KS = 0.0500, p-valor = 0.1641\n",
      "No se rechaza la hipótesis nula de la prueba de Kolmogorov-Smirnov.\n",
      "Las muestras podrían provenir de la misma distribución.\n"
     ]
    }
   ],
   "source": [
    "alpha = 0.05\n",
    "\n",
    "# Interpretación de la prueba de Chi-cuadrado\n",
    "print(\"Resultado de la prueba de Chi-cuadrado:\")\n",
    "print(f\"Estadístico chi2 = {chi_stat:.4f}, p-valor = {chi_p:.4f}\")\n",
    "\n",
    "if chi_p > alpha:\n",
    "    print(\"No se rechaza la hipótesis nula de la prueba de Chi-cuadrado.\")\n",
    "    print(\"Las muestras podrían provenir de la misma distribución.\")\n",
    "else:\n",
    "    print(\"Se rechaza la hipótesis nula de la prueba de Chi-cuadrado.\")\n",
    "    print(\"Las muestras podrían no provenir de la misma distribución.\")\n",
    "\n",
    "print(\"\\nResultado de la prueba de Kolmogorov-Smirnov:\")\n",
    "print(f\"Estadístico KS = {ks_stat:.4f}, p-valor = {ks_p:.4f}\")\n",
    "\n",
    "# Interpretación de la prueba de Kolmogorov-Smirnov\n",
    "if ks_p > alpha:\n",
    "    print(\"No se rechaza la hipótesis nula de la prueba de Kolmogorov-Smirnov.\")\n",
    "    print(\"Las muestras podrían provenir de la misma distribución.\")\n",
    "else:\n",
    "    print(\"Se rechaza la hipótesis nula de la prueba de Kolmogorov-Smirnov.\")\n",
    "    print(\"Las muestras podrían no provenir de la misma distribución.\")\n"
   ]
  },
  {
   "cell_type": "markdown",
   "metadata": {},
   "source": [
    "## Ejercicio 4\n",
    "\n",
    "### Generador Lineal Congruencial (GLC)\n"
   ]
  },
  {
   "cell_type": "code",
   "execution_count": 3,
   "metadata": {},
   "outputs": [
    {
     "name": "stdout",
     "output_type": "stream",
     "text": [
      "Experimento 1:\n",
      "Parámetros: a=1103515245, c=12345, m=2147483648\n",
      "KS Statistic: 0.0249, P-Value: 0.5573\n",
      "Conclusión: La muestra sigue una distribución uniforme.\n",
      "----------------------------------------\n",
      "Experimento 2:\n",
      "Parámetros: a=1664525, c=1013904223, m=4294967296\n",
      "KS Statistic: 0.0446, P-Value: 0.0366\n",
      "Conclusión: La muestra no sigue una distribución uniforme.\n",
      "----------------------------------------\n",
      "Experimento 3:\n",
      "Parámetros: a=214013, c=2531011, m=65536\n",
      "KS Statistic: 0.0389, P-Value: 0.0948\n",
      "Conclusión: La muestra sigue una distribución uniforme.\n",
      "----------------------------------------\n"
     ]
    }
   ],
   "source": [
    "import numpy as np\n",
    "import scipy.stats as stats\n",
    "\n",
    "# Parámetros del GLC\n",
    "def glc(a, c, m, seed, N):\n",
    "    values = []\n",
    "    Xn = seed\n",
    "    for _ in range(N):\n",
    "        Xn = (a * Xn + c) % m\n",
    "        values.append(Xn / m)  # Escalar a [0, 1]\n",
    "    return np.array(values)\n",
    "\n",
    "# Prueba de hipótesis para comparar la muestra con la distribución uniforme\n",
    "def prueba_uniformidad(muestra):\n",
    "    # Kolmogorov-Smirnov Test para comparar la muestra con U(0, 1)\n",
    "    ks_stat, p_value = stats.kstest(muestra, 'uniform')\n",
    "    return ks_stat, p_value\n",
    "\n",
    "# Parámetros para 3 experimentos\n",
    "parametros = [\n",
    "    {'a': 1103515245, 'c': 12345, 'm': 2**31, 'seed': 42, 'N': 1000},\n",
    "    {'a': 1664525, 'c': 1013904223, 'm': 2**32, 'seed': 50, 'N': 1000},\n",
    "    {'a': 214013, 'c': 2531011, 'm': 2**16, 'seed': 10, 'N': 1000}\n",
    "]\n",
    "\n",
    "# Realizar experimentos\n",
    "for i, params in enumerate(parametros, 1):\n",
    "    muestra = glc(params['a'], params['c'], params['m'], params['seed'], params['N'])\n",
    "    ks_stat, p_value = prueba_uniformidad(muestra)\n",
    "    \n",
    "    print(f\"Experimento {i}:\")\n",
    "    print(f\"Parámetros: a={params['a']}, c={params['c']}, m={params['m']}\")\n",
    "    print(f\"KS Statistic: {ks_stat:.4f}, P-Value: {p_value:.4f}\")\n",
    "    print(\"Conclusión:\", \"La muestra sigue una distribución uniforme.\" if p_value > 0.05 else \"La muestra no sigue una distribución uniforme.\")\n",
    "    print(\"-\" * 40)\n"
   ]
  },
  {
   "cell_type": "markdown",
   "metadata": {},
   "source": [
    "## Ejercicio 5\n",
    "\n",
    "### Otro Generador Pseudoaleatorio"
   ]
  },
  {
   "cell_type": "code",
   "execution_count": 6,
   "metadata": {},
   "outputs": [],
   "source": [
    "import numpy as np\n",
    "import scipy.stats as stats\n",
    "\n",
    "# Parámetros del Mersenne Twister MT19937\n",
    "class MersenneTwister:\n",
    "    def __init__(self, seed=5489):\n",
    "        # Inicialización de parámetros\n",
    "        self.w, self.n, self.m, self.r = 32, 624, 397, 31\n",
    "        self.a = 0x9908B0DF\n",
    "        self.u, self.d = 11, 0xFFFFFFFF\n",
    "        self.s, self.b = 7, 0x9D2C5680\n",
    "        self.t, self.c = 15, 0xEFC60000\n",
    "        self.l = 18\n",
    "        self.f = 1812433253\n",
    "\n",
    "        # Inicializar la matriz de estados\n",
    "        self.mt = [0] * self.n\n",
    "        self.index = self.n  # Asegura que twist() se llame antes de extraer\n",
    "        self.mt[0] = seed\n",
    "        for i in range(1, self.n):\n",
    "            self.mt[i] = (self.f * (self.mt[i - 1] ^ (self.mt[i - 1] >> (self.w - 2))) + i) & 0xFFFFFFFF\n",
    "\n",
    "    def extract_number(self):\n",
    "        # Llamar a twist() si se han usado todos los números de la matriz de estados\n",
    "        if self.index >= self.n:\n",
    "            self.twist()\n",
    "\n",
    "        y = self.mt[self.index]\n",
    "        y ^= (y >> self.u) & self.d\n",
    "        y ^= (y << self.s) & self.b\n",
    "        y ^= (y << self.t) & self.c\n",
    "        y ^= y >> self.l\n",
    "\n",
    "        self.index += 1\n",
    "        return y & 0xFFFFFFFF\n",
    "\n",
    "    def twist(self):\n",
    "        for i in range(self.n):\n",
    "            x = (self.mt[i] & 0x80000000) + (self.mt[(i + 1) % self.n] & 0x7FFFFFFF)\n",
    "            xA = x >> 1\n",
    "            if x % 2 != 0:\n",
    "                xA ^= self.a\n",
    "            self.mt[i] = self.mt[(i + self.m) % self.n] ^ xA\n",
    "        self.index = 0\n",
    "\n",
    "    def random(self):\n",
    "        # Devuelve un número aleatorio en el rango [0, 1)\n",
    "        return self.extract_number() / 0xFFFFFFFF\n",
    "\n",
    "# Generar muestra usando Mersenne Twister\n",
    "def generar_muestra_mersenne(N, seed=5489):\n",
    "    mt = MersenneTwister(seed)\n",
    "    return np.array([mt.random() for _ in range(N)])\n",
    "\n",
    "# Prueba de hipótesis para comparar la muestra con la distribución uniforme\n",
    "def prueba_uniformidad(muestra):\n",
    "    ks_stat, p_value = stats.kstest(muestra, 'uniform')\n",
    "    return ks_stat, p_value\n"
   ]
  },
  {
   "cell_type": "code",
   "execution_count": 7,
   "metadata": {},
   "outputs": [
    {
     "name": "stdout",
     "output_type": "stream",
     "text": [
      "Experimento 1 (seed=42):\n",
      "KS Statistic: 0.0167, P-Value: 0.9387\n",
      "Conclusión: La muestra sigue una distribución uniforme.\n",
      "----------------------------------------\n",
      "Experimento 2 (seed=100):\n",
      "KS Statistic: 0.0280, P-Value: 0.4054\n",
      "Conclusión: La muestra sigue una distribución uniforme.\n",
      "----------------------------------------\n",
      "Experimento 3 (seed=2024):\n",
      "KS Statistic: 0.0211, P-Value: 0.7544\n",
      "Conclusión: La muestra sigue una distribución uniforme.\n",
      "----------------------------------------\n"
     ]
    }
   ],
   "source": [
    "# Parámetros para los tres experimentos\n",
    "experimentos = [\n",
    "    {'N': 1000, 'seed': 42},\n",
    "    {'N': 1000, 'seed': 100},\n",
    "    {'N': 1000, 'seed': 2024},\n",
    "]\n",
    "\n",
    "# Realizar los experimentos\n",
    "for i, params in enumerate(experimentos, 1):\n",
    "    muestra = generar_muestra_mersenne(params['N'], seed=params['seed'])\n",
    "    ks_stat, p_value = prueba_uniformidad(muestra)\n",
    "    \n",
    "    print(f\"Experimento {i} (seed={params['seed']}):\")\n",
    "    print(f\"KS Statistic: {ks_stat:.4f}, P-Value: {p_value:.4f}\")\n",
    "    print(\"Conclusión:\", \"La muestra sigue una distribución uniforme.\" if p_value > 0.05 else \"La muestra no sigue una distribución uniforme.\")\n",
    "    print(\"-\" * 40)\n"
   ]
  }
 ],
 "metadata": {
  "kernelspec": {
   "display_name": "Python 3",
   "language": "python",
   "name": "python3"
  },
  "language_info": {
   "codemirror_mode": {
    "name": "ipython",
    "version": 3
   },
   "file_extension": ".py",
   "mimetype": "text/x-python",
   "name": "python",
   "nbconvert_exporter": "python",
   "pygments_lexer": "ipython3",
   "version": "3.13.0"
  }
 },
 "nbformat": 4,
 "nbformat_minor": 2
}
