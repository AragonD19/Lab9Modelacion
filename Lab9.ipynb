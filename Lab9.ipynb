{
 "cells": [
  {
   "cell_type": "code",
   "execution_count": 11,
   "metadata": {},
   "outputs": [
    {
     "name": "stdout",
     "output_type": "stream",
     "text": [
      "Estadístico Chi-Cuadrado: 8.144\n",
      "Valor p: 0.41953177911061906\n"
     ]
    }
   ],
   "source": [
    "import numpy as np\n",
    "from scipy.stats import chisquare\n",
    "\n",
    "# Generar dos muestras\n",
    "np.random.seed(0)\n",
    "muestra1 = np.random.uniform(0, 1, 1000)  # Muestra teórica\n",
    "muestra2 = np.random.uniform(0, 1, 1000)  # Muestra de prueba\n",
    "\n",
    "# Crear intervalos y calcular frecuencias observadas\n",
    "intervalos = np.linspace(0, 1, 10)  # 10 intervalos\n",
    "observados, _ = np.histogram(muestra2, bins=intervalos)\n",
    "esperados = np.ones_like(observados) * len(muestra2) / len(observados)\n",
    "\n",
    "# Aplicar la prueba de Chi-Cuadrado\n",
    "chi2_stat, p_value = chisquare(f_obs=observados, f_exp=esperados)\n",
    "\n",
    "print(f\"Estadístico Chi-Cuadrado: {chi2_stat}\")\n",
    "print(f\"Valor p: {p_value}\")\n"
   ]
  },
  {
   "cell_type": "code",
   "execution_count": 12,
   "metadata": {},
   "outputs": [
    {
     "name": "stdout",
     "output_type": "stream",
     "text": [
      "Estadístico K-S: 0.047\n",
      "Valor p: 0.21939649929677082\n"
     ]
    }
   ],
   "source": [
    "from scipy.stats import ks_2samp\n",
    "\n",
    "# Generar dos muestras\n",
    "muestra1 = np.random.uniform(0, 1, 1000)\n",
    "muestra2 = np.random.uniform(0, 1, 1000)\n",
    "\n",
    "# Aplicar la prueba de Kolmogorov-Smirnov\n",
    "ks_stat, p_value = ks_2samp(muestra1, muestra2)\n",
    "\n",
    "print(f\"Estadístico K-S: {ks_stat}\")\n",
    "print(f\"Valor p: {p_value}\")\n"
   ]
  },
  {
   "cell_type": "code",
   "execution_count": 16,
   "metadata": {},
   "outputs": [
    {
     "name": "stdout",
     "output_type": "stream",
     "text": [
      "Prueba de Chi-Cuadrado\n",
      "Estadístico Chi-Cuadrado: 8.883369292256985\n",
      "Valor p: 0.3522302038688966\n",
      "\n",
      "Prueba de Kolmogorov-Smirnov\n",
      "Estadístico K-S: 0.0059\n",
      "Valor p: 0.9949877801437577\n",
      "\n",
      "No se rechaza la hipótesis nula en la prueba de Chi-Cuadrado: las muestras no son significativamente diferentes.\n",
      "No se rechaza la hipótesis nula en la prueba de Kolmogorov-Smirnov: las muestras no son significativamente diferentes.\n"
     ]
    }
   ],
   "source": [
    "import numpy as np\n",
    "from scipy.stats import geom, chisquare, ks_2samp\n",
    "\n",
    "# Parámetros\n",
    "p = 0.3   # Probabilidad de éxito\n",
    "N = 10000  # Tamaño de la muestra\n",
    "\n",
    "# Muestra teórica\n",
    "muestra_teorica = geom.rvs(p, size=N)\n",
    "\n",
    "# Muestra empírica (usando la transformada inversa)\n",
    "uniformes = np.random.uniform(0, 1, N)\n",
    "muestra_empirica = np.floor(np.log(1 - uniformes) / np.log(1 - p)) + 1\n",
    "muestra_empirica = muestra_empirica.astype(int)\n",
    "\n",
    "# Agrupar datos en menos intervalos para la prueba de Chi-Cuadrado\n",
    "num_bins = 10  # Usar menos intervalos para evitar frecuencias bajas\n",
    "max_val = max(max(muestra_teorica), max(muestra_empirica))\n",
    "bins = np.linspace(1, max_val, num_bins)\n",
    "\n",
    "# Frecuencias observadas y esperadas\n",
    "observados, _ = np.histogram(muestra_empirica, bins=bins)\n",
    "esperados, _ = np.histogram(muestra_teorica, bins=bins)\n",
    "\n",
    "# Normalizar las frecuencias esperadas\n",
    "esperados = esperados * (observados.sum() / esperados.sum())\n",
    "\n",
    "# Aplicar la prueba de Chi-Cuadrado\n",
    "chi2_stat, p_value_chi2 = chisquare(f_obs=observados, f_exp=esperados)\n",
    "\n",
    "print(\"Prueba de Chi-Cuadrado\")\n",
    "print(f\"Estadístico Chi-Cuadrado: {chi2_stat}\")\n",
    "print(f\"Valor p: {p_value_chi2}\")\n",
    "\n",
    "# Prueba de Kolmogorov-Smirnov\n",
    "ks_stat, p_value_ks = ks_2samp(muestra_teorica, muestra_empirica)\n",
    "\n",
    "print(\"\\nPrueba de Kolmogorov-Smirnov\")\n",
    "print(f\"Estadístico K-S: {ks_stat}\")\n",
    "print(f\"Valor p: {p_value_ks}\")\n",
    "\n",
    "\n",
    "### Paso 4: Conclusiones ###\n",
    "\n",
    "if p_value_chi2 > 0.05:\n",
    "    print(\"\\nNo se rechaza la hipótesis nula en la prueba de Chi-Cuadrado: las muestras no son significativamente diferentes.\")\n",
    "else:\n",
    "    print(\"\\nSe rechaza la hipótesis nula en la prueba de Chi-Cuadrado: las muestras son significativamente diferentes.\")\n",
    "\n",
    "if p_value_ks > 0.05:\n",
    "    print(\"No se rechaza la hipótesis nula en la prueba de Kolmogorov-Smirnov: las muestras no son significativamente diferentes.\")\n",
    "else:\n",
    "    print(\"Se rechaza la hipótesis nula en la prueba de Kolmogorov-Smirnov: las muestras son significativamente diferentes.\")\n"
   ]
  }
 ],
 "metadata": {
  "kernelspec": {
   "display_name": "Python 3",
   "language": "python",
   "name": "python3"
  },
  "language_info": {
   "codemirror_mode": {
    "name": "ipython",
    "version": 3
   },
   "file_extension": ".py",
   "mimetype": "text/x-python",
   "name": "python",
   "nbconvert_exporter": "python",
   "pygments_lexer": "ipython3",
   "version": "3.10.11"
  }
 },
 "nbformat": 4,
 "nbformat_minor": 2
}
