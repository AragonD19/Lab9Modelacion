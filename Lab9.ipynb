{
 "cells": [
  {
   "cell_type": "code",
   "execution_count": 1,
   "metadata": {},
   "outputs": [
    {
     "name": "stdout",
     "output_type": "stream",
     "text": [
      "Estadístico Chi-Cuadrado: 8.144\n",
      "Valor p: 0.41953177911061906\n"
     ]
    }
   ],
   "source": [
    "import numpy as np\n",
    "from scipy.stats import chisquare\n",
    "\n",
    "# Generar dos muestras\n",
    "np.random.seed(0)\n",
    "muestra1 = np.random.uniform(0, 1, 1000)  # Muestra teórica\n",
    "muestra2 = np.random.uniform(0, 1, 1000)  # Muestra de prueba\n",
    "\n",
    "# Crear intervalos y calcular frecuencias observadas\n",
    "intervalos = np.linspace(0, 1, 10)  # 10 intervalos\n",
    "observados, _ = np.histogram(muestra2, bins=intervalos)\n",
    "esperados = np.ones_like(observados) * len(muestra2) / len(observados)\n",
    "\n",
    "# Aplicar la prueba de Chi-Cuadrado\n",
    "chi2_stat, p_value = chisquare(f_obs=observados, f_exp=esperados)\n",
    "\n",
    "print(f\"Estadístico Chi-Cuadrado: {chi2_stat}\")\n",
    "print(f\"Valor p: {p_value}\")\n"
   ]
  },
  {
   "cell_type": "code",
   "execution_count": 2,
   "metadata": {},
   "outputs": [
    {
     "name": "stdout",
     "output_type": "stream",
     "text": [
      "Estadístico K-S: 0.047\n",
      "Valor p: 0.21939649929677082\n"
     ]
    }
   ],
   "source": [
    "from scipy.stats import ks_2samp\n",
    "\n",
    "# Generar dos muestras\n",
    "muestra1 = np.random.uniform(0, 1, 1000)\n",
    "muestra2 = np.random.uniform(0, 1, 1000)\n",
    "\n",
    "# Aplicar la prueba de Kolmogorov-Smirnov\n",
    "ks_stat, p_value = ks_2samp(muestra1, muestra2)\n",
    "\n",
    "print(f\"Estadístico K-S: {ks_stat}\")\n",
    "print(f\"Valor p: {p_value}\")\n"
   ]
  },
  {
   "cell_type": "code",
   "execution_count": 3,
   "metadata": {},
   "outputs": [
    {
     "name": "stdout",
     "output_type": "stream",
     "text": [
      "Prueba de Chi-Cuadrado\n",
      "Estadístico Chi-Cuadrado: inf\n",
      "Valor p: 0.0\n",
      "\n",
      "Prueba de Kolmogorov-Smirnov\n",
      "Estadístico K-S: 0.0116\n",
      "Valor p: 0.5116055794163079\n",
      "\n",
      "Se rechaza la hipótesis nula en la prueba de Chi-Cuadrado: las muestras son significativamente diferentes.\n",
      "No se rechaza la hipótesis nula en la prueba de Kolmogorov-Smirnov: las muestras no son significativamente diferentes.\n"
     ]
    },
    {
     "name": "stderr",
     "output_type": "stream",
     "text": [
      "c:\\Users\\Alvar\\OneDrive\\Documentos\\SemestreVIII\\Modelacion_Simulacion\\Lab9Modelacion\\myenv\\lib\\site-packages\\scipy\\stats\\_stats_py.py:7985: RuntimeWarning: divide by zero encountered in divide\n",
      "  terms = (f_obs_float - f_exp)**2 / f_exp\n"
     ]
    }
   ],
   "source": [
    "import numpy as np\n",
    "from scipy.stats import geom, chisquare, ks_2samp\n",
    "\n",
    "# Parámetros\n",
    "p = 0.3   # Probabilidad de éxito\n",
    "N = 10000  # Tamaño de la muestra\n",
    "\n",
    "# Muestra teórica\n",
    "muestra_teorica = geom.rvs(p, size=N)\n",
    "\n",
    "# Muestra empírica (usando la transformada inversa)\n",
    "uniformes = np.random.uniform(0, 1, N)\n",
    "muestra_empirica = np.floor(np.log(1 - uniformes) / np.log(1 - p)) + 1\n",
    "muestra_empirica = muestra_empirica.astype(int)\n",
    "\n",
    "# Agrupar datos en menos intervalos para la prueba de Chi-Cuadrado\n",
    "num_bins = 10  # Usar menos intervalos para evitar frecuencias bajas\n",
    "max_val = max(max(muestra_teorica), max(muestra_empirica))\n",
    "bins = np.linspace(1, max_val, num_bins)\n",
    "\n",
    "# Frecuencias observadas y esperadas\n",
    "observados, _ = np.histogram(muestra_empirica, bins=bins)\n",
    "esperados, _ = np.histogram(muestra_teorica, bins=bins)\n",
    "\n",
    "# Normalizar las frecuencias esperadas\n",
    "esperados = esperados * (observados.sum() / esperados.sum())\n",
    "\n",
    "# Aplicar la prueba de Chi-Cuadrado\n",
    "chi2_stat, p_value_chi2 = chisquare(f_obs=observados, f_exp=esperados)\n",
    "\n",
    "print(\"Prueba de Chi-Cuadrado\")\n",
    "print(f\"Estadístico Chi-Cuadrado: {chi2_stat}\")\n",
    "print(f\"Valor p: {p_value_chi2}\")\n",
    "\n",
    "# Prueba de Kolmogorov-Smirnov\n",
    "ks_stat, p_value_ks = ks_2samp(muestra_teorica, muestra_empirica)\n",
    "\n",
    "print(\"\\nPrueba de Kolmogorov-Smirnov\")\n",
    "print(f\"Estadístico K-S: {ks_stat}\")\n",
    "print(f\"Valor p: {p_value_ks}\")\n",
    "\n",
    "\n",
    "### Paso 4: Conclusiones ###\n",
    "\n",
    "if p_value_chi2 > 0.05:\n",
    "    print(\"\\nNo se rechaza la hipótesis nula en la prueba de Chi-Cuadrado: las muestras no son significativamente diferentes.\")\n",
    "else:\n",
    "    print(\"\\nSe rechaza la hipótesis nula en la prueba de Chi-Cuadrado: las muestras son significativamente diferentes.\")\n",
    "\n",
    "if p_value_ks > 0.05:\n",
    "    print(\"No se rechaza la hipótesis nula en la prueba de Kolmogorov-Smirnov: las muestras no son significativamente diferentes.\")\n",
    "else:\n",
    "    print(\"Se rechaza la hipótesis nula en la prueba de Kolmogorov-Smirnov: las muestras son significativamente diferentes.\")\n"
   ]
  },
  {
   "cell_type": "markdown",
   "metadata": {},
   "source": [
    "\n",
    "## (Comparar muestras de una Normal)Para una distribución geométrica N(µ, σ2)\n"
   ]
  },
  {
   "cell_type": "code",
   "execution_count": null,
   "metadata": {},
   "outputs": [],
   "source": [
    "import numpy as np\n",
    "from scipy.stats import norm\n",
    "\n",
    "N = 1000\n",
    "mu = 0 \n",
    "sigma = \n",
    "\n",
    "muestra_teorica = norm.rvs(loc=mu, scale=sigma, size=N)"
   ]
  },
  {
   "cell_type": "code",
   "execution_count": 5,
   "metadata": {},
   "outputs": [],
   "source": [
    "U = np.random.uniform(0, 1, N)\n",
    "muestra_empirica = norm.ppf(U, loc=mu, scale=sigma)"
   ]
  },
  {
   "cell_type": "code",
   "execution_count": 8,
   "metadata": {},
   "outputs": [
    {
     "name": "stdout",
     "output_type": "stream",
     "text": [
      "0.0010889920185359735\n"
     ]
    }
   ],
   "source": [
    "from scipy.stats import chisquare\n",
    "\n",
    "# Definir los intervalos\n",
    "bins = np.linspace(min(min(muestra_teorica), min(muestra_empirica)),\n",
    "                   max(max(muestra_teorica), max(muestra_empirica)), 10)\n",
    "\n",
    "# Calcular las frecuencias observadas\n",
    "freq_teorica, _ = np.histogram(muestra_teorica, bins=bins)\n",
    "freq_empirica, _ = np.histogram(muestra_empirica, bins=bins)\n",
    "\n",
    "# Realizar la prueba de Chi-cuadrado\n",
    "chi_stat, chi_p = chisquare(f_obs=freq_empirica, f_exp=freq_teorica)\n",
    "\n",
    "print(chi_p)\n"
   ]
  },
  {
   "cell_type": "code",
   "execution_count": 7,
   "metadata": {},
   "outputs": [],
   "source": [
    "from scipy.stats import ks_2samp\n",
    "\n",
    "ks_stat, ks_p = ks_2samp(muestra_teorica, muestra_empirica)"
   ]
  },
  {
   "cell_type": "code",
   "execution_count": 9,
   "metadata": {},
   "outputs": [
    {
     "name": "stdout",
     "output_type": "stream",
     "text": [
      "Resultado de la prueba de Chi-cuadrado:\n",
      "Estadístico chi2 = 25.9081, p-valor = 0.0011\n",
      "Se rechaza la hipótesis nula de la prueba de Chi-cuadrado.\n",
      "Las muestras podrían no provenir de la misma distribución.\n",
      "\n",
      "Resultado de la prueba de Kolmogorov-Smirnov:\n",
      "Estadístico KS = 0.0500, p-valor = 0.1641\n",
      "No se rechaza la hipótesis nula de la prueba de Kolmogorov-Smirnov.\n",
      "Las muestras podrían provenir de la misma distribución.\n"
     ]
    }
   ],
   "source": [
    "alpha = 0.05\n",
    "\n",
    "# Interpretación de la prueba de Chi-cuadrado\n",
    "print(\"Resultado de la prueba de Chi-cuadrado:\")\n",
    "print(f\"Estadístico chi2 = {chi_stat:.4f}, p-valor = {chi_p:.4f}\")\n",
    "\n",
    "if chi_p > alpha:\n",
    "    print(\"No se rechaza la hipótesis nula de la prueba de Chi-cuadrado.\")\n",
    "    print(\"Las muestras podrían provenir de la misma distribución.\")\n",
    "else:\n",
    "    print(\"Se rechaza la hipótesis nula de la prueba de Chi-cuadrado.\")\n",
    "    print(\"Las muestras podrían no provenir de la misma distribución.\")\n",
    "\n",
    "print(\"\\nResultado de la prueba de Kolmogorov-Smirnov:\")\n",
    "print(f\"Estadístico KS = {ks_stat:.4f}, p-valor = {ks_p:.4f}\")\n",
    "\n",
    "# Interpretación de la prueba de Kolmogorov-Smirnov\n",
    "if ks_p > alpha:\n",
    "    print(\"No se rechaza la hipótesis nula de la prueba de Kolmogorov-Smirnov.\")\n",
    "    print(\"Las muestras podrían provenir de la misma distribución.\")\n",
    "else:\n",
    "    print(\"Se rechaza la hipótesis nula de la prueba de Kolmogorov-Smirnov.\")\n",
    "    print(\"Las muestras podrían no provenir de la misma distribución.\")\n"
   ]
  }
 ],
 "metadata": {
  "kernelspec": {
   "display_name": "myenv",
   "language": "python",
   "name": "python3"
  },
  "language_info": {
   "codemirror_mode": {
    "name": "ipython",
    "version": 3
   },
   "file_extension": ".py",
   "mimetype": "text/x-python",
   "name": "python",
   "nbconvert_exporter": "python",
   "pygments_lexer": "ipython3",
   "version": "3.9.2rc1"
  }
 },
 "nbformat": 4,
 "nbformat_minor": 2
}
